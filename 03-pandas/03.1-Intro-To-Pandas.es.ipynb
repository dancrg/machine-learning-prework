{
  "cells": [
    {
      "cell_type": "markdown",
      "id": "bdfbcacc",
      "metadata": {
        "id": "bdfbcacc"
      },
      "source": [
        "![Pandas logo](https://github.com/4GeeksAcademy/machine-learning-prework/blob/main/03-pandas/assets/pandas_logo.png?raw=true)\n",
        "\n",
        "## Introducción a Pandas en Python\n",
        "\n",
        "**Pandas** es una librería de código abierto que proporciona estructuras de datos y está diseñado para manejar y analizar datos tabulares en Python. Pandas se basa en NumPy, lo que le permite integrarse bien en el ecosistema de la ciencia de los datos junto a otras librerías como `Scikit-learn` y `Matplotlib`.\n",
        "\n",
        "En concreto, los puntos clave de esta librería son:\n",
        "\n",
        "- **Estructuras de datos**: Esta librería proporciona dos estructuras para trabajar con datos. Estos son las `Series` que son arrays unidimensionales etiquetados, similares a un vector, lista o secuencia y que es capaz de contener cualquier tipo de datos, y los `DataFrames`, que es una estructura bidimensional etiquetada con columnas que pueden ser de diferentes tipos, similar a una hoja de cálculo o a una tabla SQL.\n",
        "- **Manipulación de datos**: Pandas permite llevar a cabo un exhaustivo análisis de datos a través de funciones que pueden aplicarse directamente sobre sus estructuras de datos. Estas operaciones incluyen control de datos faltantes, filtrado de datos, fusión, combinación y unión de datos de diferentes fuentes...\n",
        "- **Eficiencia**: Todas las operaciones y/o funciones que se apliquen sobre las estructuras de datos son vectorizadas para mejorar el rendimiento en comparación con los bucles tradicionales e iteradores de Python.\n",
        "\n",
        "Pandas es una herramienta fundamental para cualquier desarrollador que trabaje con datos en Python, ya que proporciona una amplia variedad de herramientas para la exploración, limpieza y transformación de datos, haciendo que el proceso de análisis sea más eficiente y efectivo."
      ]
    },
    {
      "cell_type": "markdown",
      "id": "40631cd6",
      "metadata": {
        "id": "40631cd6"
      },
      "source": [
        "### Estructuras de datos\n",
        "\n",
        "Pandas proporciona dos estructuras de datos principales: `Series` y `DataFrames`.\n",
        "\n",
        "#### Series\n",
        "\n",
        "Una **serie** en Pandas es una estructura de datos unidimensional etiquetada. Es similar a un array de 1D de NumPy, pero tiene un índice que permite el acceso a los valores por etiqueta. Una serie puede contener cualquier tipo de datos: enteros, cadenas, objetos de Python...\n",
        "\n",
        "![Ejemplo de Serie](https://github.com/4GeeksAcademy/machine-learning-prework/blob/main/03-pandas/assets/series.PNG?raw=true)\n",
        "\n",
        "Una serie en Pandas tiene dos partes diferenciadas:\n",
        "\n",
        "- **Índice** (*index*): Un array de etiquetas asociado a los datos.\n",
        "- **Valor** (*value*): Un array de datos.\n",
        "\n",
        "Una serie puede ser creada utilizando la clase `Series` de la librería con una lista de elementos como argumento. Por ejemplo:"
      ]
    },
    {
      "cell_type": "code",
      "execution_count": 70,
      "id": "21653d4f",
      "metadata": {
        "id": "21653d4f",
        "outputId": "379244ad-e155-43e2-de25-2fa70b3909f9",
        "colab": {
          "base_uri": "https://localhost:8080/",
          "height": 241
        }
      },
      "outputs": [
        {
          "output_type": "execute_result",
          "data": {
            "text/plain": [
              "0    1\n",
              "1    2\n",
              "2    3\n",
              "3    4\n",
              "4    5\n",
              "dtype: int64"
            ],
            "text/html": [
              "<div>\n",
              "<style scoped>\n",
              "    .dataframe tbody tr th:only-of-type {\n",
              "        vertical-align: middle;\n",
              "    }\n",
              "\n",
              "    .dataframe tbody tr th {\n",
              "        vertical-align: top;\n",
              "    }\n",
              "\n",
              "    .dataframe thead th {\n",
              "        text-align: right;\n",
              "    }\n",
              "</style>\n",
              "<table border=\"1\" class=\"dataframe\">\n",
              "  <thead>\n",
              "    <tr style=\"text-align: right;\">\n",
              "      <th></th>\n",
              "      <th>0</th>\n",
              "    </tr>\n",
              "  </thead>\n",
              "  <tbody>\n",
              "    <tr>\n",
              "      <th>0</th>\n",
              "      <td>1</td>\n",
              "    </tr>\n",
              "    <tr>\n",
              "      <th>1</th>\n",
              "      <td>2</td>\n",
              "    </tr>\n",
              "    <tr>\n",
              "      <th>2</th>\n",
              "      <td>3</td>\n",
              "    </tr>\n",
              "    <tr>\n",
              "      <th>3</th>\n",
              "      <td>4</td>\n",
              "    </tr>\n",
              "    <tr>\n",
              "      <th>4</th>\n",
              "      <td>5</td>\n",
              "    </tr>\n",
              "  </tbody>\n",
              "</table>\n",
              "</div><br><label><b>dtype:</b> int64</label>"
            ]
          },
          "metadata": {},
          "execution_count": 70
        }
      ],
      "source": [
        "import pandas as pd\n",
        "\n",
        "serie = pd.Series([1, 2, 3, 4, 5])\n",
        "serie"
      ]
    },
    {
      "cell_type": "markdown",
      "id": "d1c2dda1",
      "metadata": {
        "id": "d1c2dda1"
      },
      "source": [
        "Esto creará una serie con los elementos 1, 2, 3, 4 y 5. Además, al no haber incluido información sobre los índices, se genera uno automático empezando en 0. Si quisiéramos crear una nueva serie con un índice concreto se programaría como sigue:"
      ]
    },
    {
      "cell_type": "code",
      "execution_count": 71,
      "id": "2d4c091d",
      "metadata": {
        "id": "2d4c091d",
        "outputId": "11a24bb3-7700-48c6-c1a8-c1248dc04180",
        "colab": {
          "base_uri": "https://localhost:8080/",
          "height": 241
        }
      },
      "outputs": [
        {
          "output_type": "execute_result",
          "data": {
            "text/plain": [
              "a    1\n",
              "b    2\n",
              "c    3\n",
              "d    4\n",
              "e    5\n",
              "dtype: int64"
            ],
            "text/html": [
              "<div>\n",
              "<style scoped>\n",
              "    .dataframe tbody tr th:only-of-type {\n",
              "        vertical-align: middle;\n",
              "    }\n",
              "\n",
              "    .dataframe tbody tr th {\n",
              "        vertical-align: top;\n",
              "    }\n",
              "\n",
              "    .dataframe thead th {\n",
              "        text-align: right;\n",
              "    }\n",
              "</style>\n",
              "<table border=\"1\" class=\"dataframe\">\n",
              "  <thead>\n",
              "    <tr style=\"text-align: right;\">\n",
              "      <th></th>\n",
              "      <th>0</th>\n",
              "    </tr>\n",
              "  </thead>\n",
              "  <tbody>\n",
              "    <tr>\n",
              "      <th>a</th>\n",
              "      <td>1</td>\n",
              "    </tr>\n",
              "    <tr>\n",
              "      <th>b</th>\n",
              "      <td>2</td>\n",
              "    </tr>\n",
              "    <tr>\n",
              "      <th>c</th>\n",
              "      <td>3</td>\n",
              "    </tr>\n",
              "    <tr>\n",
              "      <th>d</th>\n",
              "      <td>4</td>\n",
              "    </tr>\n",
              "    <tr>\n",
              "      <th>e</th>\n",
              "      <td>5</td>\n",
              "    </tr>\n",
              "  </tbody>\n",
              "</table>\n",
              "</div><br><label><b>dtype:</b> int64</label>"
            ]
          },
          "metadata": {},
          "execution_count": 71
        }
      ],
      "source": [
        "serie = pd.Series([1, 2, 3, 4, 5], index = [\"a\", \"b\", \"c\", \"d\", \"e\"])\n",
        "serie"
      ]
    },
    {
      "cell_type": "markdown",
      "id": "f7588c91",
      "metadata": {
        "id": "f7588c91"
      },
      "source": [
        "De esta forma, la serie anterior tiene un índice compuesto por letras.\n",
        "\n",
        "Ambas series almacenan los mismos valores, pero la forma en la que se accede puede variar según el índice.\n",
        "\n",
        "En una serie se puede acceder a sus elementos por índice o por posición (esto último es lo que hacíamos en NumPy). A continuación se muestran algunas operaciones que se pueden realizar utilizando la serie anterior:"
      ]
    },
    {
      "cell_type": "code",
      "execution_count": 72,
      "id": "0f90b9e7",
      "metadata": {
        "id": "0f90b9e7",
        "outputId": "90ddb9db-a7a1-44d4-8073-d2e4a12a2fcc",
        "colab": {
          "base_uri": "https://localhost:8080/"
        }
      },
      "outputs": [
        {
          "output_type": "stream",
          "name": "stdout",
          "text": [
            "3\n",
            "3\n",
            "a    1\n",
            "b    7\n",
            "c    3\n",
            "d    4\n",
            "e    5\n",
            "dtype: int64\n",
            "a    11\n",
            "b    17\n",
            "c    13\n",
            "d    14\n",
            "e    15\n",
            "dtype: int64\n",
            "70\n"
          ]
        },
        {
          "output_type": "stream",
          "name": "stderr",
          "text": [
            "<ipython-input-72-74a5fb6c538c>:3: FutureWarning: Series.__getitem__ treating keys as positions is deprecated. In a future version, integer keys will always be treated as labels (consistent with DataFrame behavior). To access a value by position, use `ser.iloc[pos]`\n",
            "  print(serie[2]) # Por posición\n"
          ]
        }
      ],
      "source": [
        "# Acceder al tercer elemento\n",
        "print(serie[\"c\"]) # Por índice\n",
        "print(serie[2]) # Por posición\n",
        "\n",
        "# Cambiar el valor del segundo elemento\n",
        "serie[\"b\"] = 7\n",
        "print(serie)\n",
        "\n",
        "# Sumar 10 a todos los elementos\n",
        "serie += 10\n",
        "print(serie)\n",
        "\n",
        "# Calcular la suma de los elementos\n",
        "sum_all = serie.sum()\n",
        "print(sum_all)"
      ]
    },
    {
      "cell_type": "markdown",
      "id": "e4fe3649",
      "metadata": {
        "id": "e4fe3649"
      },
      "source": [
        "#### DataFrame\n",
        "\n",
        "Un **DataFrame** en Pandas es una estructura de datos bidimensional etiquetada. Es similar a un array de 2D de NumPy, pero tiene un índice que permite el acceso a los valores por etiqueta por fila y columna.\n",
        "\n",
        "![Ejemplo de DataFrame](https://github.com/4GeeksAcademy/machine-learning-prework/blob/main/03-pandas/assets/dataframe.PNG?raw=true)\n",
        "\n",
        "Un DataFrame en Pandas tiene varias partes diferenciadas:\n",
        "\n",
        "- **Datos** (*data*): Una matriz de valores y que pueden ser de distinto tipo por columna.\n",
        "- **Índice de fila** (*row index*): Un array de etiquetas asociado a las filas.\n",
        "- **Índice de columna** (*column index*): Un array de etiquetas asociado a las columnas.\n",
        "\n",
        "Un DataFrame puede verse como un conjunto de series unidas en una estructura tabular, con un índice por fila en común y un índice de columna propio de cada serie.\n",
        "\n",
        "![Series y DataFrame](https://github.com/4GeeksAcademy/machine-learning-prework/blob/main/03-pandas/assets/series_dataframe.png?raw=true?raw=true)\n",
        "\n",
        "Un DataFrame puede ser creado utilizando la clase `DataFrame`. Por ejemplo:"
      ]
    },
    {
      "cell_type": "code",
      "execution_count": 73,
      "id": "3947a09a",
      "metadata": {
        "id": "3947a09a",
        "outputId": "409491b9-64b7-4d9c-fb00-a89082f104c0",
        "colab": {
          "base_uri": "https://localhost:8080/",
          "height": 143
        }
      },
      "outputs": [
        {
          "output_type": "execute_result",
          "data": {
            "text/plain": [
              "   0  1  2\n",
              "0  1  2  3\n",
              "1  4  5  6\n",
              "2  7  8  9"
            ],
            "text/html": [
              "\n",
              "  <div id=\"df-65525a1f-2584-41a1-aba8-f41de02620cf\" class=\"colab-df-container\">\n",
              "    <div>\n",
              "<style scoped>\n",
              "    .dataframe tbody tr th:only-of-type {\n",
              "        vertical-align: middle;\n",
              "    }\n",
              "\n",
              "    .dataframe tbody tr th {\n",
              "        vertical-align: top;\n",
              "    }\n",
              "\n",
              "    .dataframe thead th {\n",
              "        text-align: right;\n",
              "    }\n",
              "</style>\n",
              "<table border=\"1\" class=\"dataframe\">\n",
              "  <thead>\n",
              "    <tr style=\"text-align: right;\">\n",
              "      <th></th>\n",
              "      <th>0</th>\n",
              "      <th>1</th>\n",
              "      <th>2</th>\n",
              "    </tr>\n",
              "  </thead>\n",
              "  <tbody>\n",
              "    <tr>\n",
              "      <th>0</th>\n",
              "      <td>1</td>\n",
              "      <td>2</td>\n",
              "      <td>3</td>\n",
              "    </tr>\n",
              "    <tr>\n",
              "      <th>1</th>\n",
              "      <td>4</td>\n",
              "      <td>5</td>\n",
              "      <td>6</td>\n",
              "    </tr>\n",
              "    <tr>\n",
              "      <th>2</th>\n",
              "      <td>7</td>\n",
              "      <td>8</td>\n",
              "      <td>9</td>\n",
              "    </tr>\n",
              "  </tbody>\n",
              "</table>\n",
              "</div>\n",
              "    <div class=\"colab-df-buttons\">\n",
              "\n",
              "  <div class=\"colab-df-container\">\n",
              "    <button class=\"colab-df-convert\" onclick=\"convertToInteractive('df-65525a1f-2584-41a1-aba8-f41de02620cf')\"\n",
              "            title=\"Convert this dataframe to an interactive table.\"\n",
              "            style=\"display:none;\">\n",
              "\n",
              "  <svg xmlns=\"http://www.w3.org/2000/svg\" height=\"24px\" viewBox=\"0 -960 960 960\">\n",
              "    <path d=\"M120-120v-720h720v720H120Zm60-500h600v-160H180v160Zm220 220h160v-160H400v160Zm0 220h160v-160H400v160ZM180-400h160v-160H180v160Zm440 0h160v-160H620v160ZM180-180h160v-160H180v160Zm440 0h160v-160H620v160Z\"/>\n",
              "  </svg>\n",
              "    </button>\n",
              "\n",
              "  <style>\n",
              "    .colab-df-container {\n",
              "      display:flex;\n",
              "      gap: 12px;\n",
              "    }\n",
              "\n",
              "    .colab-df-convert {\n",
              "      background-color: #E8F0FE;\n",
              "      border: none;\n",
              "      border-radius: 50%;\n",
              "      cursor: pointer;\n",
              "      display: none;\n",
              "      fill: #1967D2;\n",
              "      height: 32px;\n",
              "      padding: 0 0 0 0;\n",
              "      width: 32px;\n",
              "    }\n",
              "\n",
              "    .colab-df-convert:hover {\n",
              "      background-color: #E2EBFA;\n",
              "      box-shadow: 0px 1px 2px rgba(60, 64, 67, 0.3), 0px 1px 3px 1px rgba(60, 64, 67, 0.15);\n",
              "      fill: #174EA6;\n",
              "    }\n",
              "\n",
              "    .colab-df-buttons div {\n",
              "      margin-bottom: 4px;\n",
              "    }\n",
              "\n",
              "    [theme=dark] .colab-df-convert {\n",
              "      background-color: #3B4455;\n",
              "      fill: #D2E3FC;\n",
              "    }\n",
              "\n",
              "    [theme=dark] .colab-df-convert:hover {\n",
              "      background-color: #434B5C;\n",
              "      box-shadow: 0px 1px 3px 1px rgba(0, 0, 0, 0.15);\n",
              "      filter: drop-shadow(0px 1px 2px rgba(0, 0, 0, 0.3));\n",
              "      fill: #FFFFFF;\n",
              "    }\n",
              "  </style>\n",
              "\n",
              "    <script>\n",
              "      const buttonEl =\n",
              "        document.querySelector('#df-65525a1f-2584-41a1-aba8-f41de02620cf button.colab-df-convert');\n",
              "      buttonEl.style.display =\n",
              "        google.colab.kernel.accessAllowed ? 'block' : 'none';\n",
              "\n",
              "      async function convertToInteractive(key) {\n",
              "        const element = document.querySelector('#df-65525a1f-2584-41a1-aba8-f41de02620cf');\n",
              "        const dataTable =\n",
              "          await google.colab.kernel.invokeFunction('convertToInteractive',\n",
              "                                                    [key], {});\n",
              "        if (!dataTable) return;\n",
              "\n",
              "        const docLinkHtml = 'Like what you see? Visit the ' +\n",
              "          '<a target=\"_blank\" href=https://colab.research.google.com/notebooks/data_table.ipynb>data table notebook</a>'\n",
              "          + ' to learn more about interactive tables.';\n",
              "        element.innerHTML = '';\n",
              "        dataTable['output_type'] = 'display_data';\n",
              "        await google.colab.output.renderOutput(dataTable, element);\n",
              "        const docLink = document.createElement('div');\n",
              "        docLink.innerHTML = docLinkHtml;\n",
              "        element.appendChild(docLink);\n",
              "      }\n",
              "    </script>\n",
              "  </div>\n",
              "\n",
              "\n",
              "    <div id=\"df-985f278f-9b71-47ef-b1c0-7fb26cec3b48\">\n",
              "      <button class=\"colab-df-quickchart\" onclick=\"quickchart('df-985f278f-9b71-47ef-b1c0-7fb26cec3b48')\"\n",
              "                title=\"Suggest charts\"\n",
              "                style=\"display:none;\">\n",
              "\n",
              "<svg xmlns=\"http://www.w3.org/2000/svg\" height=\"24px\"viewBox=\"0 0 24 24\"\n",
              "     width=\"24px\">\n",
              "    <g>\n",
              "        <path d=\"M19 3H5c-1.1 0-2 .9-2 2v14c0 1.1.9 2 2 2h14c1.1 0 2-.9 2-2V5c0-1.1-.9-2-2-2zM9 17H7v-7h2v7zm4 0h-2V7h2v10zm4 0h-2v-4h2v4z\"/>\n",
              "    </g>\n",
              "</svg>\n",
              "      </button>\n",
              "\n",
              "<style>\n",
              "  .colab-df-quickchart {\n",
              "      --bg-color: #E8F0FE;\n",
              "      --fill-color: #1967D2;\n",
              "      --hover-bg-color: #E2EBFA;\n",
              "      --hover-fill-color: #174EA6;\n",
              "      --disabled-fill-color: #AAA;\n",
              "      --disabled-bg-color: #DDD;\n",
              "  }\n",
              "\n",
              "  [theme=dark] .colab-df-quickchart {\n",
              "      --bg-color: #3B4455;\n",
              "      --fill-color: #D2E3FC;\n",
              "      --hover-bg-color: #434B5C;\n",
              "      --hover-fill-color: #FFFFFF;\n",
              "      --disabled-bg-color: #3B4455;\n",
              "      --disabled-fill-color: #666;\n",
              "  }\n",
              "\n",
              "  .colab-df-quickchart {\n",
              "    background-color: var(--bg-color);\n",
              "    border: none;\n",
              "    border-radius: 50%;\n",
              "    cursor: pointer;\n",
              "    display: none;\n",
              "    fill: var(--fill-color);\n",
              "    height: 32px;\n",
              "    padding: 0;\n",
              "    width: 32px;\n",
              "  }\n",
              "\n",
              "  .colab-df-quickchart:hover {\n",
              "    background-color: var(--hover-bg-color);\n",
              "    box-shadow: 0 1px 2px rgba(60, 64, 67, 0.3), 0 1px 3px 1px rgba(60, 64, 67, 0.15);\n",
              "    fill: var(--button-hover-fill-color);\n",
              "  }\n",
              "\n",
              "  .colab-df-quickchart-complete:disabled,\n",
              "  .colab-df-quickchart-complete:disabled:hover {\n",
              "    background-color: var(--disabled-bg-color);\n",
              "    fill: var(--disabled-fill-color);\n",
              "    box-shadow: none;\n",
              "  }\n",
              "\n",
              "  .colab-df-spinner {\n",
              "    border: 2px solid var(--fill-color);\n",
              "    border-color: transparent;\n",
              "    border-bottom-color: var(--fill-color);\n",
              "    animation:\n",
              "      spin 1s steps(1) infinite;\n",
              "  }\n",
              "\n",
              "  @keyframes spin {\n",
              "    0% {\n",
              "      border-color: transparent;\n",
              "      border-bottom-color: var(--fill-color);\n",
              "      border-left-color: var(--fill-color);\n",
              "    }\n",
              "    20% {\n",
              "      border-color: transparent;\n",
              "      border-left-color: var(--fill-color);\n",
              "      border-top-color: var(--fill-color);\n",
              "    }\n",
              "    30% {\n",
              "      border-color: transparent;\n",
              "      border-left-color: var(--fill-color);\n",
              "      border-top-color: var(--fill-color);\n",
              "      border-right-color: var(--fill-color);\n",
              "    }\n",
              "    40% {\n",
              "      border-color: transparent;\n",
              "      border-right-color: var(--fill-color);\n",
              "      border-top-color: var(--fill-color);\n",
              "    }\n",
              "    60% {\n",
              "      border-color: transparent;\n",
              "      border-right-color: var(--fill-color);\n",
              "    }\n",
              "    80% {\n",
              "      border-color: transparent;\n",
              "      border-right-color: var(--fill-color);\n",
              "      border-bottom-color: var(--fill-color);\n",
              "    }\n",
              "    90% {\n",
              "      border-color: transparent;\n",
              "      border-bottom-color: var(--fill-color);\n",
              "    }\n",
              "  }\n",
              "</style>\n",
              "\n",
              "      <script>\n",
              "        async function quickchart(key) {\n",
              "          const quickchartButtonEl =\n",
              "            document.querySelector('#' + key + ' button');\n",
              "          quickchartButtonEl.disabled = true;  // To prevent multiple clicks.\n",
              "          quickchartButtonEl.classList.add('colab-df-spinner');\n",
              "          try {\n",
              "            const charts = await google.colab.kernel.invokeFunction(\n",
              "                'suggestCharts', [key], {});\n",
              "          } catch (error) {\n",
              "            console.error('Error during call to suggestCharts:', error);\n",
              "          }\n",
              "          quickchartButtonEl.classList.remove('colab-df-spinner');\n",
              "          quickchartButtonEl.classList.add('colab-df-quickchart-complete');\n",
              "        }\n",
              "        (() => {\n",
              "          let quickchartButtonEl =\n",
              "            document.querySelector('#df-985f278f-9b71-47ef-b1c0-7fb26cec3b48 button');\n",
              "          quickchartButtonEl.style.display =\n",
              "            google.colab.kernel.accessAllowed ? 'block' : 'none';\n",
              "        })();\n",
              "      </script>\n",
              "    </div>\n",
              "\n",
              "  <div id=\"id_de9ed231-dd5d-41e1-b08c-12fc51efd7be\">\n",
              "    <style>\n",
              "      .colab-df-generate {\n",
              "        background-color: #E8F0FE;\n",
              "        border: none;\n",
              "        border-radius: 50%;\n",
              "        cursor: pointer;\n",
              "        display: none;\n",
              "        fill: #1967D2;\n",
              "        height: 32px;\n",
              "        padding: 0 0 0 0;\n",
              "        width: 32px;\n",
              "      }\n",
              "\n",
              "      .colab-df-generate:hover {\n",
              "        background-color: #E2EBFA;\n",
              "        box-shadow: 0px 1px 2px rgba(60, 64, 67, 0.3), 0px 1px 3px 1px rgba(60, 64, 67, 0.15);\n",
              "        fill: #174EA6;\n",
              "      }\n",
              "\n",
              "      [theme=dark] .colab-df-generate {\n",
              "        background-color: #3B4455;\n",
              "        fill: #D2E3FC;\n",
              "      }\n",
              "\n",
              "      [theme=dark] .colab-df-generate:hover {\n",
              "        background-color: #434B5C;\n",
              "        box-shadow: 0px 1px 3px 1px rgba(0, 0, 0, 0.15);\n",
              "        filter: drop-shadow(0px 1px 2px rgba(0, 0, 0, 0.3));\n",
              "        fill: #FFFFFF;\n",
              "      }\n",
              "    </style>\n",
              "    <button class=\"colab-df-generate\" onclick=\"generateWithVariable('dataframe')\"\n",
              "            title=\"Generate code using this dataframe.\"\n",
              "            style=\"display:none;\">\n",
              "\n",
              "  <svg xmlns=\"http://www.w3.org/2000/svg\" height=\"24px\"viewBox=\"0 0 24 24\"\n",
              "       width=\"24px\">\n",
              "    <path d=\"M7,19H8.4L18.45,9,17,7.55,7,17.6ZM5,21V16.75L18.45,3.32a2,2,0,0,1,2.83,0l1.4,1.43a1.91,1.91,0,0,1,.58,1.4,1.91,1.91,0,0,1-.58,1.4L9.25,21ZM18.45,9,17,7.55Zm-12,3A5.31,5.31,0,0,0,4.9,8.1,5.31,5.31,0,0,0,1,6.5,5.31,5.31,0,0,0,4.9,4.9,5.31,5.31,0,0,0,6.5,1,5.31,5.31,0,0,0,8.1,4.9,5.31,5.31,0,0,0,12,6.5,5.46,5.46,0,0,0,6.5,12Z\"/>\n",
              "  </svg>\n",
              "    </button>\n",
              "    <script>\n",
              "      (() => {\n",
              "      const buttonEl =\n",
              "        document.querySelector('#id_de9ed231-dd5d-41e1-b08c-12fc51efd7be button.colab-df-generate');\n",
              "      buttonEl.style.display =\n",
              "        google.colab.kernel.accessAllowed ? 'block' : 'none';\n",
              "\n",
              "      buttonEl.onclick = () => {\n",
              "        google.colab.notebook.generateWithVariable('dataframe');\n",
              "      }\n",
              "      })();\n",
              "    </script>\n",
              "  </div>\n",
              "\n",
              "    </div>\n",
              "  </div>\n"
            ],
            "application/vnd.google.colaboratory.intrinsic+json": {
              "type": "dataframe",
              "variable_name": "dataframe",
              "summary": "{\n  \"name\": \"dataframe\",\n  \"rows\": 3,\n  \"fields\": [\n    {\n      \"column\": 0,\n      \"properties\": {\n        \"dtype\": \"number\",\n        \"std\": 3,\n        \"min\": 1,\n        \"max\": 7,\n        \"num_unique_values\": 3,\n        \"samples\": [\n          1,\n          4,\n          7\n        ],\n        \"semantic_type\": \"\",\n        \"description\": \"\"\n      }\n    },\n    {\n      \"column\": 1,\n      \"properties\": {\n        \"dtype\": \"number\",\n        \"std\": 3,\n        \"min\": 2,\n        \"max\": 8,\n        \"num_unique_values\": 3,\n        \"samples\": [\n          2,\n          5,\n          8\n        ],\n        \"semantic_type\": \"\",\n        \"description\": \"\"\n      }\n    },\n    {\n      \"column\": 2,\n      \"properties\": {\n        \"dtype\": \"number\",\n        \"std\": 3,\n        \"min\": 3,\n        \"max\": 9,\n        \"num_unique_values\": 3,\n        \"samples\": [\n          3,\n          6,\n          9\n        ],\n        \"semantic_type\": \"\",\n        \"description\": \"\"\n      }\n    }\n  ]\n}"
            }
          },
          "metadata": {},
          "execution_count": 73
        }
      ],
      "source": [
        "dataframe = pd.DataFrame([[1, 2, 3], [4, 5, 6], [7, 8, 9]])\n",
        "dataframe"
      ]
    },
    {
      "cell_type": "markdown",
      "id": "ccf0e435",
      "metadata": {
        "id": "ccf0e435"
      },
      "source": [
        "Esto creará un DataFrame con tres filas y tres columnas cada fila. Al igual que sucedía con las series, un DataFrame generará índices automáticos para filas y columnas si no se pasan como argumento en el constructor de la clase. Si quisiéramos crear un nuevo DataFrame con índices concretos para filas y columnas se programaría como sigue:"
      ]
    },
    {
      "cell_type": "code",
      "execution_count": 74,
      "id": "92f62a5c",
      "metadata": {
        "id": "92f62a5c",
        "outputId": "0f0484a6-0567-47bb-d4fd-997ade14af9a",
        "colab": {
          "base_uri": "https://localhost:8080/",
          "height": 143
        }
      },
      "outputs": [
        {
          "output_type": "execute_result",
          "data": {
            "text/plain": [
              "   col A  col B  col C\n",
              "a      1      4      7\n",
              "b      2      5      8\n",
              "c      3      6      9"
            ],
            "text/html": [
              "\n",
              "  <div id=\"df-8a3d976d-533e-4bea-bcec-c8ee06b0bee7\" class=\"colab-df-container\">\n",
              "    <div>\n",
              "<style scoped>\n",
              "    .dataframe tbody tr th:only-of-type {\n",
              "        vertical-align: middle;\n",
              "    }\n",
              "\n",
              "    .dataframe tbody tr th {\n",
              "        vertical-align: top;\n",
              "    }\n",
              "\n",
              "    .dataframe thead th {\n",
              "        text-align: right;\n",
              "    }\n",
              "</style>\n",
              "<table border=\"1\" class=\"dataframe\">\n",
              "  <thead>\n",
              "    <tr style=\"text-align: right;\">\n",
              "      <th></th>\n",
              "      <th>col A</th>\n",
              "      <th>col B</th>\n",
              "      <th>col C</th>\n",
              "    </tr>\n",
              "  </thead>\n",
              "  <tbody>\n",
              "    <tr>\n",
              "      <th>a</th>\n",
              "      <td>1</td>\n",
              "      <td>4</td>\n",
              "      <td>7</td>\n",
              "    </tr>\n",
              "    <tr>\n",
              "      <th>b</th>\n",
              "      <td>2</td>\n",
              "      <td>5</td>\n",
              "      <td>8</td>\n",
              "    </tr>\n",
              "    <tr>\n",
              "      <th>c</th>\n",
              "      <td>3</td>\n",
              "      <td>6</td>\n",
              "      <td>9</td>\n",
              "    </tr>\n",
              "  </tbody>\n",
              "</table>\n",
              "</div>\n",
              "    <div class=\"colab-df-buttons\">\n",
              "\n",
              "  <div class=\"colab-df-container\">\n",
              "    <button class=\"colab-df-convert\" onclick=\"convertToInteractive('df-8a3d976d-533e-4bea-bcec-c8ee06b0bee7')\"\n",
              "            title=\"Convert this dataframe to an interactive table.\"\n",
              "            style=\"display:none;\">\n",
              "\n",
              "  <svg xmlns=\"http://www.w3.org/2000/svg\" height=\"24px\" viewBox=\"0 -960 960 960\">\n",
              "    <path d=\"M120-120v-720h720v720H120Zm60-500h600v-160H180v160Zm220 220h160v-160H400v160Zm0 220h160v-160H400v160ZM180-400h160v-160H180v160Zm440 0h160v-160H620v160ZM180-180h160v-160H180v160Zm440 0h160v-160H620v160Z\"/>\n",
              "  </svg>\n",
              "    </button>\n",
              "\n",
              "  <style>\n",
              "    .colab-df-container {\n",
              "      display:flex;\n",
              "      gap: 12px;\n",
              "    }\n",
              "\n",
              "    .colab-df-convert {\n",
              "      background-color: #E8F0FE;\n",
              "      border: none;\n",
              "      border-radius: 50%;\n",
              "      cursor: pointer;\n",
              "      display: none;\n",
              "      fill: #1967D2;\n",
              "      height: 32px;\n",
              "      padding: 0 0 0 0;\n",
              "      width: 32px;\n",
              "    }\n",
              "\n",
              "    .colab-df-convert:hover {\n",
              "      background-color: #E2EBFA;\n",
              "      box-shadow: 0px 1px 2px rgba(60, 64, 67, 0.3), 0px 1px 3px 1px rgba(60, 64, 67, 0.15);\n",
              "      fill: #174EA6;\n",
              "    }\n",
              "\n",
              "    .colab-df-buttons div {\n",
              "      margin-bottom: 4px;\n",
              "    }\n",
              "\n",
              "    [theme=dark] .colab-df-convert {\n",
              "      background-color: #3B4455;\n",
              "      fill: #D2E3FC;\n",
              "    }\n",
              "\n",
              "    [theme=dark] .colab-df-convert:hover {\n",
              "      background-color: #434B5C;\n",
              "      box-shadow: 0px 1px 3px 1px rgba(0, 0, 0, 0.15);\n",
              "      filter: drop-shadow(0px 1px 2px rgba(0, 0, 0, 0.3));\n",
              "      fill: #FFFFFF;\n",
              "    }\n",
              "  </style>\n",
              "\n",
              "    <script>\n",
              "      const buttonEl =\n",
              "        document.querySelector('#df-8a3d976d-533e-4bea-bcec-c8ee06b0bee7 button.colab-df-convert');\n",
              "      buttonEl.style.display =\n",
              "        google.colab.kernel.accessAllowed ? 'block' : 'none';\n",
              "\n",
              "      async function convertToInteractive(key) {\n",
              "        const element = document.querySelector('#df-8a3d976d-533e-4bea-bcec-c8ee06b0bee7');\n",
              "        const dataTable =\n",
              "          await google.colab.kernel.invokeFunction('convertToInteractive',\n",
              "                                                    [key], {});\n",
              "        if (!dataTable) return;\n",
              "\n",
              "        const docLinkHtml = 'Like what you see? Visit the ' +\n",
              "          '<a target=\"_blank\" href=https://colab.research.google.com/notebooks/data_table.ipynb>data table notebook</a>'\n",
              "          + ' to learn more about interactive tables.';\n",
              "        element.innerHTML = '';\n",
              "        dataTable['output_type'] = 'display_data';\n",
              "        await google.colab.output.renderOutput(dataTable, element);\n",
              "        const docLink = document.createElement('div');\n",
              "        docLink.innerHTML = docLinkHtml;\n",
              "        element.appendChild(docLink);\n",
              "      }\n",
              "    </script>\n",
              "  </div>\n",
              "\n",
              "\n",
              "    <div id=\"df-f6e39f73-0334-4329-9215-1e1ee182a920\">\n",
              "      <button class=\"colab-df-quickchart\" onclick=\"quickchart('df-f6e39f73-0334-4329-9215-1e1ee182a920')\"\n",
              "                title=\"Suggest charts\"\n",
              "                style=\"display:none;\">\n",
              "\n",
              "<svg xmlns=\"http://www.w3.org/2000/svg\" height=\"24px\"viewBox=\"0 0 24 24\"\n",
              "     width=\"24px\">\n",
              "    <g>\n",
              "        <path d=\"M19 3H5c-1.1 0-2 .9-2 2v14c0 1.1.9 2 2 2h14c1.1 0 2-.9 2-2V5c0-1.1-.9-2-2-2zM9 17H7v-7h2v7zm4 0h-2V7h2v10zm4 0h-2v-4h2v4z\"/>\n",
              "    </g>\n",
              "</svg>\n",
              "      </button>\n",
              "\n",
              "<style>\n",
              "  .colab-df-quickchart {\n",
              "      --bg-color: #E8F0FE;\n",
              "      --fill-color: #1967D2;\n",
              "      --hover-bg-color: #E2EBFA;\n",
              "      --hover-fill-color: #174EA6;\n",
              "      --disabled-fill-color: #AAA;\n",
              "      --disabled-bg-color: #DDD;\n",
              "  }\n",
              "\n",
              "  [theme=dark] .colab-df-quickchart {\n",
              "      --bg-color: #3B4455;\n",
              "      --fill-color: #D2E3FC;\n",
              "      --hover-bg-color: #434B5C;\n",
              "      --hover-fill-color: #FFFFFF;\n",
              "      --disabled-bg-color: #3B4455;\n",
              "      --disabled-fill-color: #666;\n",
              "  }\n",
              "\n",
              "  .colab-df-quickchart {\n",
              "    background-color: var(--bg-color);\n",
              "    border: none;\n",
              "    border-radius: 50%;\n",
              "    cursor: pointer;\n",
              "    display: none;\n",
              "    fill: var(--fill-color);\n",
              "    height: 32px;\n",
              "    padding: 0;\n",
              "    width: 32px;\n",
              "  }\n",
              "\n",
              "  .colab-df-quickchart:hover {\n",
              "    background-color: var(--hover-bg-color);\n",
              "    box-shadow: 0 1px 2px rgba(60, 64, 67, 0.3), 0 1px 3px 1px rgba(60, 64, 67, 0.15);\n",
              "    fill: var(--button-hover-fill-color);\n",
              "  }\n",
              "\n",
              "  .colab-df-quickchart-complete:disabled,\n",
              "  .colab-df-quickchart-complete:disabled:hover {\n",
              "    background-color: var(--disabled-bg-color);\n",
              "    fill: var(--disabled-fill-color);\n",
              "    box-shadow: none;\n",
              "  }\n",
              "\n",
              "  .colab-df-spinner {\n",
              "    border: 2px solid var(--fill-color);\n",
              "    border-color: transparent;\n",
              "    border-bottom-color: var(--fill-color);\n",
              "    animation:\n",
              "      spin 1s steps(1) infinite;\n",
              "  }\n",
              "\n",
              "  @keyframes spin {\n",
              "    0% {\n",
              "      border-color: transparent;\n",
              "      border-bottom-color: var(--fill-color);\n",
              "      border-left-color: var(--fill-color);\n",
              "    }\n",
              "    20% {\n",
              "      border-color: transparent;\n",
              "      border-left-color: var(--fill-color);\n",
              "      border-top-color: var(--fill-color);\n",
              "    }\n",
              "    30% {\n",
              "      border-color: transparent;\n",
              "      border-left-color: var(--fill-color);\n",
              "      border-top-color: var(--fill-color);\n",
              "      border-right-color: var(--fill-color);\n",
              "    }\n",
              "    40% {\n",
              "      border-color: transparent;\n",
              "      border-right-color: var(--fill-color);\n",
              "      border-top-color: var(--fill-color);\n",
              "    }\n",
              "    60% {\n",
              "      border-color: transparent;\n",
              "      border-right-color: var(--fill-color);\n",
              "    }\n",
              "    80% {\n",
              "      border-color: transparent;\n",
              "      border-right-color: var(--fill-color);\n",
              "      border-bottom-color: var(--fill-color);\n",
              "    }\n",
              "    90% {\n",
              "      border-color: transparent;\n",
              "      border-bottom-color: var(--fill-color);\n",
              "    }\n",
              "  }\n",
              "</style>\n",
              "\n",
              "      <script>\n",
              "        async function quickchart(key) {\n",
              "          const quickchartButtonEl =\n",
              "            document.querySelector('#' + key + ' button');\n",
              "          quickchartButtonEl.disabled = true;  // To prevent multiple clicks.\n",
              "          quickchartButtonEl.classList.add('colab-df-spinner');\n",
              "          try {\n",
              "            const charts = await google.colab.kernel.invokeFunction(\n",
              "                'suggestCharts', [key], {});\n",
              "          } catch (error) {\n",
              "            console.error('Error during call to suggestCharts:', error);\n",
              "          }\n",
              "          quickchartButtonEl.classList.remove('colab-df-spinner');\n",
              "          quickchartButtonEl.classList.add('colab-df-quickchart-complete');\n",
              "        }\n",
              "        (() => {\n",
              "          let quickchartButtonEl =\n",
              "            document.querySelector('#df-f6e39f73-0334-4329-9215-1e1ee182a920 button');\n",
              "          quickchartButtonEl.style.display =\n",
              "            google.colab.kernel.accessAllowed ? 'block' : 'none';\n",
              "        })();\n",
              "      </script>\n",
              "    </div>\n",
              "\n",
              "  <div id=\"id_74abd7b1-1cab-42c2-8bb1-04627a64489c\">\n",
              "    <style>\n",
              "      .colab-df-generate {\n",
              "        background-color: #E8F0FE;\n",
              "        border: none;\n",
              "        border-radius: 50%;\n",
              "        cursor: pointer;\n",
              "        display: none;\n",
              "        fill: #1967D2;\n",
              "        height: 32px;\n",
              "        padding: 0 0 0 0;\n",
              "        width: 32px;\n",
              "      }\n",
              "\n",
              "      .colab-df-generate:hover {\n",
              "        background-color: #E2EBFA;\n",
              "        box-shadow: 0px 1px 2px rgba(60, 64, 67, 0.3), 0px 1px 3px 1px rgba(60, 64, 67, 0.15);\n",
              "        fill: #174EA6;\n",
              "      }\n",
              "\n",
              "      [theme=dark] .colab-df-generate {\n",
              "        background-color: #3B4455;\n",
              "        fill: #D2E3FC;\n",
              "      }\n",
              "\n",
              "      [theme=dark] .colab-df-generate:hover {\n",
              "        background-color: #434B5C;\n",
              "        box-shadow: 0px 1px 3px 1px rgba(0, 0, 0, 0.15);\n",
              "        filter: drop-shadow(0px 1px 2px rgba(0, 0, 0, 0.3));\n",
              "        fill: #FFFFFF;\n",
              "      }\n",
              "    </style>\n",
              "    <button class=\"colab-df-generate\" onclick=\"generateWithVariable('dataframe')\"\n",
              "            title=\"Generate code using this dataframe.\"\n",
              "            style=\"display:none;\">\n",
              "\n",
              "  <svg xmlns=\"http://www.w3.org/2000/svg\" height=\"24px\"viewBox=\"0 0 24 24\"\n",
              "       width=\"24px\">\n",
              "    <path d=\"M7,19H8.4L18.45,9,17,7.55,7,17.6ZM5,21V16.75L18.45,3.32a2,2,0,0,1,2.83,0l1.4,1.43a1.91,1.91,0,0,1,.58,1.4,1.91,1.91,0,0,1-.58,1.4L9.25,21ZM18.45,9,17,7.55Zm-12,3A5.31,5.31,0,0,0,4.9,8.1,5.31,5.31,0,0,0,1,6.5,5.31,5.31,0,0,0,4.9,4.9,5.31,5.31,0,0,0,6.5,1,5.31,5.31,0,0,0,8.1,4.9,5.31,5.31,0,0,0,12,6.5,5.46,5.46,0,0,0,6.5,12Z\"/>\n",
              "  </svg>\n",
              "    </button>\n",
              "    <script>\n",
              "      (() => {\n",
              "      const buttonEl =\n",
              "        document.querySelector('#id_74abd7b1-1cab-42c2-8bb1-04627a64489c button.colab-df-generate');\n",
              "      buttonEl.style.display =\n",
              "        google.colab.kernel.accessAllowed ? 'block' : 'none';\n",
              "\n",
              "      buttonEl.onclick = () => {\n",
              "        google.colab.notebook.generateWithVariable('dataframe');\n",
              "      }\n",
              "      })();\n",
              "    </script>\n",
              "  </div>\n",
              "\n",
              "    </div>\n",
              "  </div>\n"
            ],
            "application/vnd.google.colaboratory.intrinsic+json": {
              "type": "dataframe",
              "variable_name": "dataframe",
              "summary": "{\n  \"name\": \"dataframe\",\n  \"rows\": 3,\n  \"fields\": [\n    {\n      \"column\": \"col A\",\n      \"properties\": {\n        \"dtype\": \"number\",\n        \"std\": 1,\n        \"min\": 1,\n        \"max\": 3,\n        \"num_unique_values\": 3,\n        \"samples\": [\n          1,\n          2,\n          3\n        ],\n        \"semantic_type\": \"\",\n        \"description\": \"\"\n      }\n    },\n    {\n      \"column\": \"col B\",\n      \"properties\": {\n        \"dtype\": \"number\",\n        \"std\": 1,\n        \"min\": 4,\n        \"max\": 6,\n        \"num_unique_values\": 3,\n        \"samples\": [\n          4,\n          5,\n          6\n        ],\n        \"semantic_type\": \"\",\n        \"description\": \"\"\n      }\n    },\n    {\n      \"column\": \"col C\",\n      \"properties\": {\n        \"dtype\": \"number\",\n        \"std\": 1,\n        \"min\": 7,\n        \"max\": 9,\n        \"num_unique_values\": 3,\n        \"samples\": [\n          7,\n          8,\n          9\n        ],\n        \"semantic_type\": \"\",\n        \"description\": \"\"\n      }\n    }\n  ]\n}"
            }
          },
          "metadata": {},
          "execution_count": 74
        }
      ],
      "source": [
        "data = {\n",
        "    \"col A\": [1, 2, 3],\n",
        "    \"col B\": [4, 5, 6],\n",
        "    \"col C\": [7, 8, 9]\n",
        "}\n",
        "\n",
        "dataframe = pd.DataFrame(data, index = [\"a\", \"b\", \"c\"])\n",
        "dataframe"
      ]
    },
    {
      "cell_type": "markdown",
      "id": "758e57bd",
      "metadata": {
        "id": "758e57bd"
      },
      "source": [
        "De esta forma se proporciona un índice personalizado para las columnas (etiquetando las filas dentro de un diccionario) y para las filas (con el argumento `index` tal y como sucedía con las series).\n",
        "\n",
        "En un DataFrame se puede acceder a sus elementos por índice o por posición. A continuación se muestran algunas operaciones que se pueden realizar utilizando el DataFrame anterior:"
      ]
    },
    {
      "cell_type": "code",
      "execution_count": 75,
      "id": "258c47ff",
      "metadata": {
        "id": "258c47ff",
        "outputId": "9b21e3a3-4170-4454-eab9-19ab24f40cd5",
        "colab": {
          "base_uri": "https://localhost:8080/"
        }
      },
      "outputs": [
        {
          "output_type": "stream",
          "name": "stdout",
          "text": [
            "a    1\n",
            "b    2\n",
            "c    3\n",
            "Name: col A, dtype: int64\n",
            "a    1\n",
            "b    2\n",
            "c    3\n",
            "Name: col A, dtype: int64\n",
            "a    1\n",
            "b    2\n",
            "c    3\n",
            "Name: col A, dtype: int64\n",
            "col A    1\n",
            "col B    4\n",
            "col C    7\n",
            "Name: a, dtype: int64\n",
            "col A    1\n",
            "col B    4\n",
            "col C    7\n",
            "Name: a, dtype: int64\n",
            "1\n",
            "1\n",
            "   col A  col B  col C  col D\n",
            "a      1      4      7     10\n",
            "b      2      5      8     11\n",
            "c      3      6      9     12\n",
            "   col A  col B  col C  col D\n",
            "a      1      4      7     10\n",
            "b      2      5      8     11\n",
            "c      3      6      9     12\n",
            "d     13     14     15     16\n",
            "   col A  col B  col C  col D\n",
            "a     10      4      7     10\n",
            "b     20      5      8     11\n",
            "c     30      6      9     12\n",
            "d    130     14     15     16\n",
            "col A    190\n",
            "col B     29\n",
            "col C     39\n",
            "col D     49\n",
            "dtype: int64\n"
          ]
        }
      ],
      "source": [
        "# Acceder a todos los datos de una columna\n",
        "print(dataframe[\"col A\"]) # Por índice\n",
        "print(dataframe.loc[:,\"col A\"]) # Por índice\n",
        "print(dataframe.iloc[:,0]) # Por posición\n",
        "\n",
        "# Acceder a todos los datos de una fila\n",
        "print(dataframe.loc[\"a\"]) # Por índice\n",
        "print(dataframe.iloc[0]) # Por posición\n",
        "\n",
        "# Acceder a un elemento (fila, columna) concreto\n",
        "print(dataframe.loc[\"a\", \"col A\"]) # Por índice\n",
        "print(dataframe.iloc[0, 0]) # Por posición\n",
        "\n",
        "# Crear una nueva columna\n",
        "dataframe[\"col D\"] = [10, 11, 12]\n",
        "print(dataframe)\n",
        "\n",
        "# Crear una nueva fila\n",
        "dataframe.loc[\"d\"] = [13, 14, 15, 16]\n",
        "print(dataframe)\n",
        "\n",
        "# Multiplicar por 10 los elementos de una columna\n",
        "dataframe[\"col A\"] *= 10\n",
        "print(dataframe)\n",
        "\n",
        "# Calcular la suma de todos los elementos\n",
        "sum_all = dataframe.sum()\n",
        "print(sum_all)"
      ]
    },
    {
      "cell_type": "markdown",
      "id": "1ac3bdaa",
      "metadata": {
        "id": "1ac3bdaa"
      },
      "source": [
        "### Funciones\n",
        "\n",
        "Pandas proporciona una gran cantidad de funciones predefinidas y que se pueden aplicar sobre las estructuras de datos vistas anteriormente. Algunas de las más utilizadas en el análisis de datos son:"
      ]
    },
    {
      "cell_type": "code",
      "execution_count": 76,
      "id": "9a54370c",
      "metadata": {
        "id": "9a54370c",
        "outputId": "b4ea0fff-b3ad-41df-ad1a-dd70b2ee0935",
        "colab": {
          "base_uri": "https://localhost:8080/"
        }
      },
      "outputs": [
        {
          "output_type": "stream",
          "name": "stdout",
          "text": [
            "Suma de series: 0    5\n",
            "1    7\n",
            "2    9\n",
            "dtype: int64\n",
            "Suma de DataFrames:     0   1   2\n",
            "0   8  10  12\n",
            "1  14  16  18\n",
            "Media: 2.0\n",
            "Mediana: 2.0\n",
            "Número de elementos: 3\n",
            "Desviación estándar: 1.0\n",
            "Varianza: 1.0\n",
            "Máximo valor: 3\n",
            "Mínimo valor: 1\n",
            "Correlación: 1.0\n",
            "Resumen estadístico: count    3.0\n",
            "mean     2.0\n",
            "std      1.0\n",
            "min      1.0\n",
            "25%      1.5\n",
            "50%      2.0\n",
            "75%      2.5\n",
            "max      3.0\n",
            "dtype: float64\n"
          ]
        }
      ],
      "source": [
        "import pandas as pd\n",
        "\n",
        "s1 = pd.Series([1, 2, 3])\n",
        "s2 = pd.Series([4, 5, 6])\n",
        "d1 = pd.DataFrame([[1, 2, 3], [4, 5, 6]])\n",
        "d2 = pd.DataFrame([[7, 8, 9], [10, 11, 12]])\n",
        "\n",
        "# Operaciones Aritméticas\n",
        "print(\"Suma de series:\", s1.add(s2))\n",
        "print(\"Suma de DataFrames:\", d1.add(d2))\n",
        "\n",
        "# Operaciones Estadísticas\n",
        "# Se pueden aplicar de igual forma a los DataFrames\n",
        "print(\"Media:\", s1.mean())\n",
        "print(\"Mediana:\", s1.median())\n",
        "print(\"Número de elementos:\", s1.count())\n",
        "print(\"Desviación estándar:\", s1.std())\n",
        "print(\"Varianza:\", s1.var())\n",
        "print(\"Máximo valor:\", s1.max())\n",
        "print(\"Mínimo valor:\", s1.min())\n",
        "print(\"Correlación:\", s1.corr(s2))\n",
        "print(\"Resumen estadístico:\", s1.describe())"
      ]
    },
    {
      "cell_type": "markdown",
      "id": "1837dc19",
      "metadata": {
        "id": "1837dc19"
      },
      "source": [
        "#### Funciones personalizadas\n",
        "\n",
        "Además de las funciones predefinidas de Pandas, también se pueden definir y aplicar otras a las estructuras de datos. Para ello, tenemos que programar la función para que reciba un valor (o una columna o fila en el caso de un DataFrame) y devuelva otro modificado, y referenciarla con `apply`.\n",
        "\n",
        "Además, esta función permite utilizar **expresiones lambda** (*lambda expressions*) para la declaración anónima de funciones.\n",
        "\n",
        "A continuación se muestra cómo aplicar funciones a las series:"
      ]
    },
    {
      "cell_type": "code",
      "execution_count": 77,
      "id": "282d22bb",
      "metadata": {
        "id": "282d22bb",
        "outputId": "a1af9eab-9944-43b2-df7a-4f7aef6ce69d",
        "colab": {
          "base_uri": "https://localhost:8080/"
        }
      },
      "outputs": [
        {
          "output_type": "stream",
          "name": "stdout",
          "text": [
            "0     1\n",
            "1     4\n",
            "2     9\n",
            "3    16\n",
            "dtype: int64\n",
            "0     1\n",
            "1     4\n",
            "2     9\n",
            "3    16\n",
            "dtype: int64\n"
          ]
        }
      ],
      "source": [
        "import pandas as pd\n",
        "s = pd.Series([1, 2, 3, 4])\n",
        "\n",
        "# Definición explícita de la función\n",
        "def squared(x):\n",
        "    return x ** 2\n",
        "s1 = s.apply(squared)\n",
        "print(s1)\n",
        "\n",
        "# Definición anónima de la función\n",
        "s2 = s.apply(lambda x: x ** 2)\n",
        "print(s2)"
      ]
    },
    {
      "cell_type": "markdown",
      "id": "40e3a3db",
      "metadata": {
        "id": "40e3a3db"
      },
      "source": [
        "A continuación se muestra cómo aplicar funciones a un DataFrame, que puede hacerse por fila, por columna o por elementos, similar a las series:"
      ]
    },
    {
      "cell_type": "code",
      "execution_count": 78,
      "id": "7c96f45d",
      "metadata": {
        "id": "7c96f45d",
        "outputId": "6af68b0e-6313-4440-8135-d8817a545af4",
        "colab": {
          "base_uri": "https://localhost:8080/"
        }
      },
      "outputs": [
        {
          "output_type": "stream",
          "name": "stdout",
          "text": [
            "   A  B\n",
            "0  1  4\n",
            "1  4  5\n",
            "2  9  6\n",
            "   A   B\n",
            "0  1  16\n",
            "1  4   5\n",
            "2  9   6\n",
            "    A    B\n",
            "0   1  256\n",
            "1  16   25\n",
            "2  81   36\n"
          ]
        },
        {
          "output_type": "stream",
          "name": "stderr",
          "text": [
            "<ipython-input-78-a734cebb4746>:15: FutureWarning: DataFrame.applymap has been deprecated. Use DataFrame.map instead.\n",
            "  df = df.applymap(lambda x: x ** 2)\n"
          ]
        }
      ],
      "source": [
        "df = pd.DataFrame({\n",
        "    \"A\": [1, 2, 3],\n",
        "    \"B\": [4, 5, 6]\n",
        "})\n",
        "\n",
        "# Aplicar función a lo largo de una columna\n",
        "df[\"A\"] = df[\"A\"].apply(lambda x: x ** 2)\n",
        "print(df)\n",
        "\n",
        "# Aplicar función a lo largo de una fila\n",
        "df.loc[0] = df.loc[0].apply(lambda x: x ** 2)\n",
        "print(df)\n",
        "\n",
        "# Aplicar función a todos los elementos\n",
        "df = df.applymap(lambda x: x ** 2)\n",
        "print(df)"
      ]
    },
    {
      "cell_type": "markdown",
      "id": "3acb43c7",
      "metadata": {
        "id": "3acb43c7"
      },
      "source": [
        "`apply` es más flexible que otras funciones vectorizadas de Pandas, pero puede ser más lenta, especialmente cuando se aplica a grandes conjuntos de datos. Siempre es importante explorar las funciones incorporadas de Pandas o NumPy primero, ya que suelen ser más eficientes que las que podríamos llegar a implementar nosotros.\n",
        "\n",
        "Además, esta función puede devolver resultados de diferentes formas, dependiendo de la función aplicada y de cómo esté configurada."
      ]
    },
    {
      "cell_type": "markdown",
      "id": "a9f764b6",
      "metadata": {
        "id": "a9f764b6"
      },
      "source": [
        "## Ejercicios\n",
        "\n",
        "Haz clic en el botón \"Abrir en Colab\" que se encuentra al principio de esta lección, para poder realizar los ejercicios en Google Collab.\n",
        "\n",
        "En el siguiente enlace puedes conseguir las [soluciones a los ejercicios de pandas python](https://4geeks.com/lesson/pandas-exercises-and-solutions) que encontraras mas abajo.\n",
        "\n",
        "> 🔥 We also recommend you to complete this [interactive and self-corrected Pandas tutorial](https://4geeks.com/interactive-exercise/pandas-tutorial-and-exercises) accompanied by our AI mentor Rigobot, who will answer all your questions instantly.\n",
        "\n",
        "### Creación de series y DataFrames"
      ]
    },
    {
      "cell_type": "markdown",
      "id": "e3c20b3d",
      "metadata": {
        "id": "e3c20b3d"
      },
      "source": [
        "#### Ejercicio Pandas 01: Crea una serie a partir de una lista, de un array de NumPy y de un diccionario (★☆☆)\n",
        "\n",
        "> NOTA: Revisa la clase `pd.Series` (https://pandas.pydata.org/docs/reference/api/pandas.Series.html)"
      ]
    },
    {
      "cell_type": "code",
      "execution_count": 79,
      "id": "8a758bcf",
      "metadata": {
        "colab": {
          "base_uri": "https://localhost:8080/"
        },
        "id": "8a758bcf",
        "outputId": "e087ff4f-c1c5-4619-d134-001ca9ee0a62"
      },
      "outputs": [
        {
          "output_type": "stream",
          "name": "stdout",
          "text": [
            "[1, 2, 3, 4, 5]\n",
            "[ 6  7  8  9 10]\n",
            "{'a': 11, 'b': 12, 'c': 13, 'd': 14, 'e': 15}\n",
            "\n",
            "\n",
            "SERIE PROVENIENTE DE LISTA ES:\n",
            " a    1\n",
            "b    2\n",
            "c    3\n",
            "d    4\n",
            "e    5\n",
            "dtype: int64 \n",
            "\n",
            "SERIE PROVENIENTE DE ARRAY ES:\n",
            " A     6\n",
            "B     7\n",
            "C     8\n",
            "D     9\n",
            "E    10\n",
            "dtype: int64 \n",
            "\n",
            "SERIE PROVENIENTE DE DICCIONARIO ES:\n",
            " a    11\n",
            "b    12\n",
            "c    13\n",
            "d    14\n",
            "e    15\n",
            "dtype: int64\n"
          ]
        }
      ],
      "source": [
        "import numpy as np\n",
        "import pandas as pd\n",
        "\n",
        "lista = [1,2,3,4,5]\n",
        "array = np.array([6,7,8,9,10])\n",
        "diccio = {'a':11,'b':12,'c':13,'d':14,'e':15}\n",
        "\n",
        "print(lista)\n",
        "print(array)\n",
        "print(diccio)\n",
        "print('\\n')\n",
        "\n",
        "series_lista = pd.Series(lista,index = ['a','b','c','d','e'])\n",
        "print('SERIE PROVENIENTE DE LISTA ES:\\n',series_lista,'\\n')\n",
        "\n",
        "array_lista = pd.Series(array,index=['A','B','C','D','E'])\n",
        "print('SERIE PROVENIENTE DE ARRAY ES:\\n',array_lista,'\\n')\n",
        "\n",
        "array_diccio = pd.Series(diccio)\n",
        "print('SERIE PROVENIENTE DE DICCIONARIO ES:\\n',array_diccio)"
      ]
    },
    {
      "cell_type": "markdown",
      "id": "cb8185b8",
      "metadata": {
        "id": "cb8185b8"
      },
      "source": [
        "#### Ejercicio Pandas 02: Crea un DataFrame a partir de un array de NumPy, de un diccionario y de una lista de tuplas (★☆☆)\n",
        "\n",
        "> NOTA: Revisa la clase `pd.DataFrame` (https://pandas.pydata.org/docs/reference/api/pandas.DataFrame.html)"
      ]
    },
    {
      "cell_type": "code",
      "execution_count": 80,
      "id": "16cc6699",
      "metadata": {
        "colab": {
          "base_uri": "https://localhost:8080/"
        },
        "id": "16cc6699",
        "outputId": "8ce697e9-f5dd-455f-8fe0-0e6969368280"
      },
      "outputs": [
        {
          "output_type": "stream",
          "name": "stdout",
          "text": [
            "[[1 7 8]\n",
            " [8 2 9]\n",
            " [7 4 3]\n",
            " [2 3 1]] \n",
            "\n",
            "(('par1', 2), ('par2', 4), ('par3', 8), ('par4', 10), ('par4', 12)) \n",
            "\n",
            "{'columna1': [1, 2, 3], 'columna2': [4, 5, 6], 'columna3': [7, 8, 9]} \n",
            "\n",
            "\n",
            "----------------------------------\n",
            "\n",
            "   column1  column2  column3\n",
            "A        1        7        8\n",
            "B        8        2        9\n",
            "C        7        4        3\n",
            "D        2        3        1 \n",
            "\n",
            "    par  numero\n",
            "a  par1       2\n",
            "b  par2       4\n",
            "c  par3       8\n",
            "d  par4      10\n",
            "e  par4      12 \n",
            "\n",
            "   columna1  columna2  columna3\n",
            "X         1         4         7\n",
            "Y         2         5         8\n",
            "Z         3         6         9\n"
          ]
        }
      ],
      "source": [
        "arrayx = np.random.randint(1,10,(4,3))\n",
        "\n",
        "tuplax = (('par1', 2),('par2',4),('par3',8),('par4',10),('par4',12))\n",
        "\n",
        "dicciox = {'columna1':[1,2,3],\n",
        "           'columna2':[4,5,6],\n",
        "           'columna3':[7,8,9]}\n",
        "\n",
        "print(arrayx,'\\n')\n",
        "print(tuplax,'\\n')\n",
        "print(dicciox,'\\n\\n\\n----------------------------------\\n')\n",
        "\n",
        "df_arrayx = pd.DataFrame(arrayx,columns=['column1','column2','column3'], index = ['A','B','C','D'])\n",
        "\n",
        "df_tuplax = pd.DataFrame(tuplax,columns=['par','numero'],index = ['a','b','c','d','e'])\n",
        "\n",
        "df_dicciox = pd.DataFrame(dicciox,index = ['X','Y','Z'])\n",
        "\n",
        "print(df_arrayx,'\\n')\n",
        "print(df_tuplax,'\\n')\n",
        "print(df_dicciox)"
      ]
    },
    {
      "cell_type": "markdown",
      "id": "96424fb7",
      "metadata": {
        "id": "96424fb7"
      },
      "source": [
        "#### Ejercicio Pandas 03: Crea 2 series y utilízalas para construir un DataFrame (★☆☆)\n",
        "\n",
        "> NOTA: Revisa las funciones `pd.concat` (https://pandas.pydata.org/docs/reference/api/pandas.concat.html) y `pd.Series.to_frame` (https://pandas.pydata.org/docs/reference/api/pandas.Series.to_frame.html)"
      ]
    },
    {
      "cell_type": "code",
      "execution_count": 81,
      "id": "934e60d7",
      "metadata": {
        "colab": {
          "base_uri": "https://localhost:8080/"
        },
        "id": "934e60d7",
        "outputId": "c2873eda-2352-4091-a82c-7976bb8efe34"
      },
      "outputs": [
        {
          "output_type": "stream",
          "name": "stdout",
          "text": [
            "    0   1\n",
            "0   2   7\n",
            "1   4   2\n",
            "2   2   9\n",
            "3   8   2\n",
            "4   2  11\n",
            "5  12  12\n"
          ]
        }
      ],
      "source": [
        "serie1 = pd.Series([2,4,2,8,2,12])\n",
        "serie2 = pd.Series([7,2,9,2,11,12])\n",
        "\n",
        "df_concat = pd.concat([serie1,serie2],axis=1)\n",
        "print(df_concat)"
      ]
    },
    {
      "cell_type": "markdown",
      "id": "8caafb43",
      "metadata": {
        "id": "8caafb43"
      },
      "source": [
        "### Filtrado y actualización"
      ]
    },
    {
      "cell_type": "markdown",
      "id": "1499a0a6",
      "metadata": {
        "id": "1499a0a6"
      },
      "source": [
        "#### Ejercicio Pandas 04: Utiliza las series creadas en el ejercicio anterior y selecciona las posiciones de los elementos de la primera serie que están en la segunda (★★☆)\n",
        "\n",
        "> NOTA: Revisa la función `pd.Series.isin` (https://pandas.pydata.org/docs/reference/api/pandas.Series.isin.html)"
      ]
    },
    {
      "cell_type": "code",
      "execution_count": 82,
      "id": "5683a253",
      "metadata": {
        "colab": {
          "base_uri": "https://localhost:8080/"
        },
        "id": "5683a253",
        "outputId": "c626ba56-23c2-41de-a442-f3558edc4ded"
      },
      "outputs": [
        {
          "output_type": "stream",
          "name": "stdout",
          "text": [
            "0     2\n",
            "1     4\n",
            "2     2\n",
            "3     8\n",
            "4     2\n",
            "5    12\n",
            "dtype: int64\n",
            "0     7\n",
            "1     2\n",
            "2     9\n",
            "3     2\n",
            "4    11\n",
            "5    12\n",
            "dtype: int64\n",
            "\n",
            "\n",
            "0     True\n",
            "1    False\n",
            "2     True\n",
            "3    False\n",
            "4     True\n",
            "5     True\n",
            "dtype: bool \n",
            "\n",
            "0     2\n",
            "2     2\n",
            "4     2\n",
            "5    12\n",
            "dtype: int64\n"
          ]
        }
      ],
      "source": [
        "print(serie1)\n",
        "print(serie2)\n",
        "print('\\n')\n",
        "\n",
        "serie_booleana = serie1.isin(serie2)\n",
        "print(serie_booleana,'\\n')\n",
        "\n",
        "valores_comunes = serie1[serie_booleana]\n",
        "print(valores_comunes)"
      ]
    },
    {
      "cell_type": "markdown",
      "id": "4303b614",
      "metadata": {
        "id": "4303b614"
      },
      "source": [
        "#### Ejercicio Pandas 05: Utiliza las series creadas en el ejercicio 03 y lista los elementos no comunes entre ambas (★★☆)"
      ]
    },
    {
      "cell_type": "code",
      "execution_count": 83,
      "id": "477e01f4",
      "metadata": {
        "colab": {
          "base_uri": "https://localhost:8080/"
        },
        "id": "477e01f4",
        "outputId": "77c89819-090b-4c17-85b2-6a217af83760"
      },
      "outputs": [
        {
          "output_type": "stream",
          "name": "stdout",
          "text": [
            "0     2\n",
            "1     4\n",
            "2     2\n",
            "3     8\n",
            "4     2\n",
            "5    12\n",
            "dtype: int64\n",
            "0     7\n",
            "1     2\n",
            "2     9\n",
            "3     2\n",
            "4    11\n",
            "5    12\n",
            "dtype: int64\n",
            "0    False\n",
            "1     True\n",
            "2    False\n",
            "3     True\n",
            "4    False\n",
            "5    False\n",
            "dtype: bool\n",
            "0     True\n",
            "1    False\n",
            "2     True\n",
            "3    False\n",
            "4     True\n",
            "5    False\n",
            "dtype: bool\n",
            "1    4\n",
            "3    8\n",
            "dtype: int64\n",
            "0     7\n",
            "2     9\n",
            "4    11\n",
            "dtype: int64\n",
            "1     4\n",
            "3     8\n",
            "0     7\n",
            "2     9\n",
            "4    11\n",
            "dtype: int64\n"
          ]
        }
      ],
      "source": [
        "print(serie1)\n",
        "print(serie2)\n",
        "\n",
        "seriebooleana_inv_1 = ~serie1.isin(serie2)\n",
        "print(seriebooleana_inv_1)\n",
        "\n",
        "seriebooleana_inv_2 = ~serie2.isin(serie1)\n",
        "print(seriebooleana_inv_2)\n",
        "\n",
        "no_comunes_1en2 = serie1[seriebooleana_inv_1]\n",
        "no_comunes_2en1 = serie2[seriebooleana_inv_2]\n",
        "\n",
        "print(no_comunes_1en2)\n",
        "print(no_comunes_2en1)\n",
        "\n",
        "lista_final = pd.concat([no_comunes_1en2,no_comunes_2en1],axis=0)\n",
        "print(lista_final)"
      ]
    },
    {
      "cell_type": "markdown",
      "id": "4e7ad59c",
      "metadata": {
        "id": "4e7ad59c"
      },
      "source": [
        "#### Ejercicio 06: Crea un DataFrame de números aleatorios con 5 columnas y 10 filas y ordena una de sus columnas de menor a mayor (★★☆)\n",
        "\n",
        "> NOTA: Revisa la función `pd.DataFrame.sort_values` (https://pandas.pydata.org/docs/reference/api/pandas.DataFrame.sort_values.html)"
      ]
    },
    {
      "cell_type": "code",
      "execution_count": 84,
      "id": "82de9a71",
      "metadata": {
        "id": "82de9a71",
        "colab": {
          "base_uri": "https://localhost:8080/"
        },
        "outputId": "beb810d5-83c4-4a19-d195-e2453cd68960"
      },
      "outputs": [
        {
          "output_type": "stream",
          "name": "stdout",
          "text": [
            "[[48 13 30 29 18]\n",
            " [12 32 36 17 33]\n",
            " [45 45 24  8 40]\n",
            " [25 16 11 35 46]\n",
            " [11  8 47 49 20]\n",
            " [11 47  9 11 41]\n",
            " [15 17 19 45 16]\n",
            " [10 26 26 32 13]\n",
            " [36  2 33 44 21]\n",
            " [47 11 18  2 19]]\n",
            "\n",
            "    A   B   C   D   E\n",
            "A  48  13  30  29  18\n",
            "B  12  32  36  17  33\n",
            "C  45  45  24   8  40\n",
            "D  25  16  11  35  46\n",
            "E  11   8  47  49  20\n",
            "F  11  47   9  11  41\n",
            "G  15  17  19  45  16\n",
            "H  10  26  26  32  13\n",
            "I  36   2  33  44  21\n",
            "J  47  11  18   2  19 \n",
            "\n",
            "<class 'numpy.ndarray'>\n",
            "<class 'pandas.core.frame.DataFrame'> \n",
            "\n",
            "    A   B   C   D   E\n",
            "I  36   2  33  44  21\n",
            "E  11   8  47  49  20\n",
            "J  47  11  18   2  19\n",
            "A  48  13  30  29  18\n",
            "D  25  16  11  35  46\n",
            "G  15  17  19  45  16\n",
            "H  10  26  26  32  13\n",
            "B  12  32  36  17  33\n",
            "C  45  45  24   8  40\n",
            "F  11  47   9  11  41\n"
          ]
        }
      ],
      "source": [
        "matriz_aleatoria_numpy = np.random.randint(1,50,(10,5))\n",
        "print(f'{matriz_aleatoria_numpy}\\n')\n",
        "\n",
        "matriz_dataframe = pd.DataFrame(matriz_aleatoria_numpy, columns = ['A','B','C','D','E'], index = ['A','B','C','D','E','F','G','H','I','J'])\n",
        "print(matriz_dataframe,'\\n')\n",
        "\n",
        "print(type(matriz_aleatoria_numpy))\n",
        "print(type(matriz_dataframe),'\\n')\n",
        "\n",
        "df_ordenado = pd.DataFrame.sort_values(matriz_dataframe,'B')\n",
        "print(df_ordenado)"
      ]
    },
    {
      "cell_type": "markdown",
      "id": "09f77d6a",
      "metadata": {
        "id": "09f77d6a"
      },
      "source": [
        "#### Ejercicio Pandas 07: Modifica el nombre de las 5 columnas del DataFrame anterior por el siguiente formato: `N_column` donde `N` es el número de la columna (★★☆)\n",
        "\n",
        "> NOTA: Revisa la función `pd.DataFrame.sort_values` (https://pandas.pydata.org/docs/reference/api/pandas.DataFrame.sort_values.html)"
      ]
    },
    {
      "cell_type": "code",
      "execution_count": 103,
      "id": "6c65fe4f",
      "metadata": {
        "id": "6c65fe4f",
        "colab": {
          "base_uri": "https://localhost:8080/"
        },
        "outputId": "6623b9e0-19ad-4119-e84f-c7afd8a347c0"
      },
      "outputs": [
        {
          "output_type": "stream",
          "name": "stdout",
          "text": [
            "   YYY  2column  ZZZ  4column  XXX\n",
            "I   36        2   33       44   21\n",
            "E   11        8   47       49   20\n",
            "J   47       11   18        2   19\n",
            "A   48       13   30       29   18\n",
            "D   25       16   11       35   46\n",
            "G   15       17   19       45   16\n",
            "H   10       26   26       32   13\n",
            "B   12       32   36       17   33\n",
            "C   45       45   24        8   40\n",
            "F   11       47    9       11   41 \n",
            "\n",
            "   1column  2column  3column  4column  5column\n",
            "I       36        2       33       44       21\n",
            "E       11        8       47       49       20\n",
            "J       47       11       18        2       19\n",
            "A       48       13       30       29       18\n",
            "D       25       16       11       35       46\n",
            "G       15       17       19       45       16\n",
            "H       10       26       26       32       13\n",
            "B       12       32       36       17       33\n",
            "C       45       45       24        8       40\n",
            "F       11       47        9       11       41 \n",
            "\n",
            "   YYY  2column  ZZZ  4column  XXX\n",
            "I   36        2   33       44   21\n",
            "E   11        8   47       49   20\n",
            "J   47       11   18        2   19\n",
            "A   48       13   30       29   18\n",
            "D   25       16   11       35   46\n",
            "G   15       17   19       45   16\n",
            "H   10       26   26       32   13\n",
            "B   12       32   36       17   33\n",
            "C   45       45   24        8   40\n",
            "F   11       47    9       11   41\n"
          ]
        }
      ],
      "source": [
        "print(df_ordenado,'\\n')\n",
        "df_ordenado.columns = ['1column','2column','3column','4column','5column']\n",
        "print(df_ordenado,'\\n')\n",
        "\n",
        "df_ordenado = df_ordenado.rename(columns={'1column':'YYY','3column':'ZZZ','5column':'XXX'})\n",
        "print(df_ordenado)"
      ]
    },
    {
      "cell_type": "markdown",
      "id": "c0e940f8",
      "metadata": {
        "id": "c0e940f8"
      },
      "source": [
        "#### Ejercicio Pandas 08: Modifica el índice de las filas del DataFrame del ejercicio 06 (★★☆)\n",
        "\n",
        "> NOTA: Revisa la función `pd.DataFrame.sort_values` (https://pandas.pydata.org/docs/reference/api/pandas.DataFrame.sort_values.html)"
      ]
    },
    {
      "cell_type": "code",
      "execution_count": 85,
      "id": "820dc7a5",
      "metadata": {
        "id": "820dc7a5"
      },
      "outputs": [],
      "source": []
    }
  ],
  "metadata": {
    "kernelspec": {
      "display_name": "Python 3",
      "language": "python",
      "name": "python3"
    },
    "language_info": {
      "codemirror_mode": {
        "name": "ipython",
        "version": 3
      },
      "file_extension": ".py",
      "mimetype": "text/x-python",
      "name": "python",
      "nbconvert_exporter": "python",
      "pygments_lexer": "ipython3",
      "version": "3.11.4"
    },
    "colab": {
      "provenance": []
    }
  },
  "nbformat": 4,
  "nbformat_minor": 5
}